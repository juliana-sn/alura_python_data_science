{
  "nbformat": 4,
  "nbformat_minor": 0,
  "metadata": {
    "colab": {
      "provenance": [],
      "mount_file_id": "1u7FaK5CWc1tYPf56IKspSt07pzh2-FvF",
      "authorship_tag": "ABX9TyPjbS1eqQd/1nJbn+xir2Iu",
      "include_colab_link": true
    },
    "kernelspec": {
      "name": "python3",
      "display_name": "Python 3"
    },
    "language_info": {
      "name": "python"
    }
  },
  "cells": [
    {
      "cell_type": "markdown",
      "metadata": {
        "id": "view-in-github",
        "colab_type": "text"
      },
      "source": [
        "<a href=\"https://colab.research.google.com/github/juliana-sn/alura_python_data_science/blob/main/python/PythonDataScience.ipynb\" target=\"_parent\"><img src=\"https://colab.research.google.com/assets/colab-badge.svg\" alt=\"Open In Colab\"/></a>"
      ]
    },
    {
      "cell_type": "markdown",
      "source": [
        "## Estudos de Python com a Formação \"Python para Data Science\" da Alura"
      ],
      "metadata": {
        "id": "2nyOhRlAfkpO"
      }
    },
    {
      "cell_type": "markdown",
      "source": [
        "Curso: Trabalhando com funções, estruturas de dados e exceções"
      ],
      "metadata": {
        "id": "POOSbFwZTtgz"
      }
    },
    {
      "cell_type": "code",
      "source": [
        "!pip install matplotlib"
      ],
      "metadata": {
        "id": "gz13uR4Ff2Tp",
        "colab": {
          "base_uri": "https://localhost:8080/"
        },
        "outputId": "801974ff-08eb-4ca9-c2d1-06596990b7fe"
      },
      "execution_count": null,
      "outputs": [
        {
          "output_type": "stream",
          "name": "stdout",
          "text": [
            "Requirement already satisfied: matplotlib in /usr/local/lib/python3.11/dist-packages (3.10.0)\n",
            "Requirement already satisfied: contourpy>=1.0.1 in /usr/local/lib/python3.11/dist-packages (from matplotlib) (1.3.2)\n",
            "Requirement already satisfied: cycler>=0.10 in /usr/local/lib/python3.11/dist-packages (from matplotlib) (0.12.1)\n",
            "Requirement already satisfied: fonttools>=4.22.0 in /usr/local/lib/python3.11/dist-packages (from matplotlib) (4.58.4)\n",
            "Requirement already satisfied: kiwisolver>=1.3.1 in /usr/local/lib/python3.11/dist-packages (from matplotlib) (1.4.8)\n",
            "Requirement already satisfied: numpy>=1.23 in /usr/local/lib/python3.11/dist-packages (from matplotlib) (2.0.2)\n",
            "Requirement already satisfied: packaging>=20.0 in /usr/local/lib/python3.11/dist-packages (from matplotlib) (24.2)\n",
            "Requirement already satisfied: pillow>=8 in /usr/local/lib/python3.11/dist-packages (from matplotlib) (11.2.1)\n",
            "Requirement already satisfied: pyparsing>=2.3.1 in /usr/local/lib/python3.11/dist-packages (from matplotlib) (3.2.3)\n",
            "Requirement already satisfied: python-dateutil>=2.7 in /usr/local/lib/python3.11/dist-packages (from matplotlib) (2.9.0.post0)\n",
            "Requirement already satisfied: six>=1.5 in /usr/local/lib/python3.11/dist-packages (from python-dateutil>=2.7->matplotlib) (1.17.0)\n"
          ]
        }
      ]
    },
    {
      "cell_type": "markdown",
      "source": [
        "Instalando biblioteca"
      ],
      "metadata": {
        "id": "852iu30XUIMg"
      }
    },
    {
      "cell_type": "code",
      "source": [
        "# Importando uma biblioteca sem alias\n",
        "import matplotlib"
      ],
      "metadata": {
        "id": "JmtXzHF_UK-p"
      },
      "execution_count": null,
      "outputs": []
    },
    {
      "cell_type": "code",
      "source": [
        "# Importando uma biblioteca com alias (\"apelido\")\n",
        "import matplotlib.pyplot as plt"
      ],
      "metadata": {
        "id": "JNRrHuobUerV"
      },
      "execution_count": null,
      "outputs": []
    },
    {
      "cell_type": "markdown",
      "source": [
        "Utilizando a biblioteca"
      ],
      "metadata": {
        "id": "dRUcnmRNVCuU"
      }
    },
    {
      "cell_type": "code",
      "source": [
        "estudantes = [\"João\", \"Maria\", \"José\"]\n",
        "notas = [7.0, 9.0, 8.0]\n",
        "plt.bar(x = estudantes, height = notas)\n",
        "# criando um gráfico de barras com matplotlib"
      ],
      "metadata": {
        "colab": {
          "base_uri": "https://localhost:8080/",
          "height": 447
        },
        "id": "-D2KnQ6nVPkA",
        "outputId": "59561c56-b999-4504-b794-0d9d88f6d4f7"
      },
      "execution_count": null,
      "outputs": [
        {
          "output_type": "execute_result",
          "data": {
            "text/plain": [
              "<BarContainer object of 3 artists>"
            ]
          },
          "metadata": {},
          "execution_count": 4
        },
        {
          "output_type": "display_data",
          "data": {
            "text/plain": [
              "<Figure size 640x480 with 1 Axes>"
            ],
            "image/png": "[encoded data removed]"
          },
          "metadata": {}
        }
      ]
    },
    {
      "cell_type": "code",
      "source": [
        "estudantes_2 = [\"João\", \"Maria\", \"José\", \"Ana\"]\n"
      ],
      "metadata": {
        "id": "6zNbDXubVnuk"
      },
      "execution_count": null,
      "outputs": []
    },
    {
      "cell_type": "code",
      "source": [
        "#Importando uma função específica de uma biblioteca\n",
        "## from biblioteca import método, ou caso queira importar mais de um método from biblioteca import método, método2\n",
        "from random import choice"
      ],
      "metadata": {
        "id": "nA1E_27TWAll"
      },
      "execution_count": null,
      "outputs": []
    },
    {
      "cell_type": "code",
      "source": [
        "help(choice)"
      ],
      "metadata": {
        "colab": {
          "base_uri": "https://localhost:8080/"
        },
        "id": "JxlxFwcXW9Uz",
        "outputId": "230e3802-d8ac-4f53-e632-9bc84e809bf1"
      },
      "execution_count": null,
      "outputs": [
        {
          "output_type": "stream",
          "name": "stdout",
          "text": [
            "Help on method choice in module random:\n",
            "\n",
            "choice(seq) method of random.Random instance\n",
            "    Choose a random element from a non-empty sequence.\n",
            "\n"
          ]
        }
      ]
    },
    {
      "cell_type": "code",
      "source": [
        "estudante = choice(estudantes_2)\n",
        "print(estudante)"
      ],
      "metadata": {
        "colab": {
          "base_uri": "https://localhost:8080/"
        },
        "id": "tLukGcL9XcAP",
        "outputId": "82a3dd5a-5cdc-40d6-ca70-e25740496de5"
      },
      "execution_count": null,
      "outputs": [
        {
          "output_type": "stream",
          "name": "stdout",
          "text": [
            "Maria\n"
          ]
        }
      ]
    },
    {
      "cell_type": "code",
      "source": [
        "# Outras formas de importar biblioteca\n",
        "\n",
        "## import nome_biblioteca import *\n",
        "## import nome_biblioteca\n",
        "## from nome_biblioteca import *"
      ],
      "metadata": {
        "id": "K-rFZK36Ypcg"
      },
      "execution_count": null,
      "outputs": []
    },
    {
      "cell_type": "markdown",
      "source": [
        "# Exercícios"
      ],
      "metadata": {
        "id": "VG4RRqLTZpMT"
      }
    },
    {
      "cell_type": "code",
      "source": [
        "import numpy as np"
      ],
      "metadata": {
        "id": "Q6_RyIWXaAzk"
      },
      "execution_count": null,
      "outputs": []
    },
    {
      "cell_type": "code",
      "source": [
        "lista = [8, 12, 54, 23, 43, 1, 90, 87, 105, 77]"
      ],
      "metadata": {
        "id": "yKZoDrSbaLiT"
      },
      "execution_count": null,
      "outputs": []
    },
    {
      "cell_type": "code",
      "source": [
        "numero = choice(lista)\n",
        "print(f\"Número escolhido: {choice(lista)}\")"
      ],
      "metadata": {
        "colab": {
          "base_uri": "https://localhost:8080/"
        },
        "id": "XibBwwTJaWan",
        "outputId": "8c6cf779-a7dd-49af-ba85-0d8bec54d40f"
      },
      "execution_count": null,
      "outputs": [
        {
          "output_type": "stream",
          "name": "stdout",
          "text": [
            "Número escolhido: 77\n"
          ]
        }
      ]
    },
    {
      "cell_type": "code",
      "source": [
        "from random import randrange\n",
        "randrange(100)"
      ],
      "metadata": {
        "colab": {
          "base_uri": "https://localhost:8080/"
        },
        "id": "UcdLf8_Sal3f",
        "outputId": "8d809618-de82-46f3-ec34-8d99fea82a0f"
      },
      "execution_count": null,
      "outputs": [
        {
          "output_type": "execute_result",
          "data": {
            "text/plain": [
              "75"
            ]
          },
          "metadata": {},
          "execution_count": 9
        }
      ]
    },
    {
      "cell_type": "code",
      "source": [
        "from math import pow\n",
        "numero1 = input(\"Digite um número: \")\n",
        "numero2 = input(\"Digite outro número:\")\n",
        "pow(int(numero1), int(numero2))"
      ],
      "metadata": {
        "colab": {
          "base_uri": "https://localhost:8080/"
        },
        "id": "irV6doQFbAU9",
        "outputId": "4adc77c6-9926-4b78-fbc6-9a48756a4a21"
      },
      "execution_count": null,
      "outputs": [
        {
          "name": "stdout",
          "output_type": "stream",
          "text": [
            "Digite um número: 2\n",
            "Digite outro número:3\n"
          ]
        },
        {
          "output_type": "execute_result",
          "data": {
            "text/plain": [
              "8.0"
            ]
          },
          "metadata": {},
          "execution_count": 12
        }
      ]
    },
    {
      "cell_type": "markdown",
      "source": [
        "Aula 2 - Funções built-in"
      ],
      "metadata": {
        "id": "KY22OfkMcFTn"
      }
    },
    {
      "cell_type": "code",
      "source": [
        "notas = {'1º Trimestre': 8.5, '2º Trimestre': 7.0, '3º Trimestre': 9.0}\n",
        "notas"
      ],
      "metadata": {
        "colab": {
          "base_uri": "https://localhost:8080/"
        },
        "id": "ZTJZ5eSGcGeW",
        "outputId": "536c0089-e080-44a0-d11d-4e9c014ef36d"
      },
      "execution_count": null,
      "outputs": [
        {
          "output_type": "execute_result",
          "data": {
            "text/plain": [
              "{'1º Trimestre': 8.5, '2º Trimestre': 7.0, '3º Trimestre': 9.0}"
            ]
          },
          "metadata": {},
          "execution_count": 13
        }
      ]
    },
    {
      "cell_type": "code",
      "source": [
        "# Calculando a soma com for\n",
        "soma = 0\n",
        "\n",
        "for nota in notas.values():\n",
        "  soma += nota\n",
        "\n",
        "soma"
      ],
      "metadata": {
        "colab": {
          "base_uri": "https://localhost:8080/"
        },
        "id": "KsRH-_6Nc0jP",
        "outputId": "84ceeb22-ac20-4652-c20e-3199dd4da42d"
      },
      "execution_count": null,
      "outputs": [
        {
          "output_type": "execute_result",
          "data": {
            "text/plain": [
              "24.5"
            ]
          },
          "metadata": {},
          "execution_count": 14
        }
      ]
    },
    {
      "cell_type": "code",
      "source": [
        "# Calculando a soma utilizando a função embutida sum()\n",
        "somatorio = sum(notas.values())\n",
        "somatorio"
      ],
      "metadata": {
        "colab": {
          "base_uri": "https://localhost:8080/"
        },
        "id": "Dn8XJQdydWmd",
        "outputId": "03755bfe-8a4e-4cb9-95f4-222c997910bd"
      },
      "execution_count": null,
      "outputs": [
        {
          "output_type": "execute_result",
          "data": {
            "text/plain": [
              "24.5"
            ]
          },
          "metadata": {},
          "execution_count": 15
        }
      ]
    },
    {
      "cell_type": "code",
      "source": [
        "# Função len -> tamanho\n",
        "qtd_notas = len(notas)\n",
        "qtd_notas"
      ],
      "metadata": {
        "colab": {
          "base_uri": "https://localhost:8080/"
        },
        "id": "ZYNyKFtedhQo",
        "outputId": "ecc66c6c-3066-42ef-ee0d-28ac8e16bd2e"
      },
      "execution_count": null,
      "outputs": [
        {
          "output_type": "execute_result",
          "data": {
            "text/plain": [
              "3"
            ]
          },
          "metadata": {},
          "execution_count": 16
        }
      ]
    },
    {
      "cell_type": "code",
      "source": [
        "# Calculando a média\n",
        "media = somatorio / qtd_notas\n",
        "media"
      ],
      "metadata": {
        "colab": {
          "base_uri": "https://localhost:8080/"
        },
        "id": "iIfuITnEdwfZ",
        "outputId": "46eee817-7147-4b3d-dff1-7fd9e34b465c"
      },
      "execution_count": null,
      "outputs": [
        {
          "output_type": "execute_result",
          "data": {
            "text/plain": [
              "8.166666666666666"
            ]
          },
          "metadata": {},
          "execution_count": 17
        }
      ]
    },
    {
      "cell_type": "code",
      "source": [
        "# Arredondando para duas casas decimais\n",
        "media = round(media, 2)\n",
        "media"
      ],
      "metadata": {
        "colab": {
          "base_uri": "https://localhost:8080/"
        },
        "id": "LsxkAwR-d3Zu",
        "outputId": "b438c61b-91ca-4ce2-c1d5-c4355bbc150c"
      },
      "execution_count": null,
      "outputs": [
        {
          "output_type": "execute_result",
          "data": {
            "text/plain": [
              "8.17"
            ]
          },
          "metadata": {},
          "execution_count": 20
        }
      ]
    },
    {
      "cell_type": "markdown",
      "source": [
        "Criando funções"
      ],
      "metadata": {
        "id": "wMrua6tyerIY"
      }
    },
    {
      "cell_type": "code",
      "source": [
        "# Funções sem parâmetros\n",
        "\n",
        "## Formato padrão\n",
        "def <nome>():\n",
        "  <instrucoes>"
      ],
      "metadata": {
        "id": "JjdkV7rgewPv"
      },
      "execution_count": null,
      "outputs": []
    },
    {
      "cell_type": "code",
      "source": [
        "def media():\n",
        "  calculo = (10 + 9 + 8)/3\n",
        "  print(calculo)\n",
        "\n",
        "media()"
      ],
      "metadata": {
        "id": "Ifuvxo-JfByk",
        "outputId": "b57b8684-3a65-4fd0-e7f4-c39c06c3ce05",
        "colab": {
          "base_uri": "https://localhost:8080/"
        }
      },
      "execution_count": null,
      "outputs": [
        {
          "output_type": "stream",
          "name": "stdout",
          "text": [
            "9.0\n"
          ]
        }
      ]
    },
    {
      "cell_type": "code",
      "source": [
        "# Funções com parâmetros\n",
        "\n",
        "## Formato padrão\n",
        "\n",
        "def <nome>(<parâmetro1>, <parâmetro2>):\n",
        "  <instruções>\n"
      ],
      "metadata": {
        "id": "DqQxRM7UfdSr",
        "outputId": "d02a30af-92cb-4d77-935a-6101d9a1bec6",
        "colab": {
          "base_uri": "https://localhost:8080/",
          "height": 106
        }
      },
      "execution_count": null,
      "outputs": [
        {
          "output_type": "error",
          "ename": "SyntaxError",
          "evalue": "invalid syntax (ipython-input-2-83068658.py, line 5)",
          "traceback": [
            "\u001b[0;36m  File \u001b[0;32m\"/tmp/ipython-input-2-83068658.py\"\u001b[0;36m, line \u001b[0;32m5\u001b[0m\n\u001b[0;31m    def <nome>(<parâmetro1>, <parâmetro2>):\u001b[0m\n\u001b[0m        ^\u001b[0m\n\u001b[0;31mSyntaxError\u001b[0m\u001b[0;31m:\u001b[0m invalid syntax\n"
          ]
        }
      ]
    },
    {
      "cell_type": "code",
      "source": [
        "def media(nota1, nota2, nota3):\n",
        "  calculo = (nota1 + nota2 + nota3)/3\n",
        "  print(calculo)\n",
        "\n",
        "media(8, 9, 10)"
      ],
      "metadata": {
        "id": "wI9UUZkUfnzg",
        "outputId": "836726fc-3911-4487-81f0-8d0c46f5e5ef",
        "colab": {
          "base_uri": "https://localhost:8080/"
        }
      },
      "execution_count": null,
      "outputs": [
        {
          "output_type": "stream",
          "name": "stdout",
          "text": [
            "9.0\n"
          ]
        }
      ]
    },
    {
      "cell_type": "code",
      "source": [
        "# Funções com retorno\n",
        "def <nome>(<param_1>, <param_2>):\n",
        "  <instruções>\n",
        "  return resultado\n"
      ],
      "metadata": {
        "id": "hT3rONNl9I6E"
      },
      "execution_count": null,
      "outputs": []
    },
    {
      "cell_type": "code",
      "source": [
        "notas2 = [8.5, 9.0, 6.0, 10.0]"
      ],
      "metadata": {
        "id": "KnDIxoBD2g4b"
      },
      "execution_count": null,
      "outputs": []
    },
    {
      "cell_type": "code",
      "source": [
        "def media(lista):\n",
        "  calculo = sum(lista)/len(lista)\n",
        "  return calculo\n",
        "\n",
        "media(notas2)"
      ],
      "metadata": {
        "colab": {
          "base_uri": "https://localhost:8080/"
        },
        "id": "R4UmmZEF2q3p",
        "outputId": "a7d13faa-d385-45a9-9fa7-442a09e1e42c"
      },
      "execution_count": null,
      "outputs": [
        {
          "output_type": "execute_result",
          "data": {
            "text/plain": [
              "8.375"
            ]
          },
          "metadata": {},
          "execution_count": 6
        }
      ]
    },
    {
      "cell_type": "markdown",
      "source": [
        "Situação 2 - Função com retorno"
      ],
      "metadata": {
        "id": "DtN-DRMK3I2W"
      }
    },
    {
      "cell_type": "code",
      "source": [
        "notas = [6.0, 7.0, 5.0, 9.0]"
      ],
      "metadata": {
        "id": "UqRvOWUw3N05"
      },
      "execution_count": null,
      "outputs": []
    },
    {
      "cell_type": "code",
      "source": [
        "def boletim(lista):\n",
        "  media = sum(lista)/len(lista)\n",
        "  if(media >= 6):\n",
        "    situacao = \"Aprovado(a)\"\n",
        "  else:\n",
        "    situacao = \"Reprovado(a)\"\n",
        "\n",
        "  return media, situacao"
      ],
      "metadata": {
        "id": "aJVQr0xh3aPk"
      },
      "execution_count": null,
      "outputs": []
    },
    {
      "cell_type": "code",
      "source": [
        "media, situacao = boletim(notas)\n",
        "\n",
        "print(f'O(a) estudante atingiu uma média de {media} e foi {situacao}')"
      ],
      "metadata": {
        "colab": {
          "base_uri": "https://localhost:8080/"
        },
        "id": "wTbD7IJb31on",
        "outputId": "dfd46b41-2e84-43f9-df90-0ef1f4998c77"
      },
      "execution_count": null,
      "outputs": [
        {
          "output_type": "stream",
          "name": "stdout",
          "text": [
            "O(a) estudante atingiu uma média de 6.75 e foi Aprovado(a)\n"
          ]
        }
      ]
    },
    {
      "cell_type": "markdown",
      "source": [
        "Documentando funções   "
      ],
      "metadata": {
        "id": "RdMGL-Tc4UyT"
      }
    },
    {
      "cell_type": "code",
      "source": [
        "# Type Hint - definindo o tipo esperado do parâmetro e de retorno\n",
        "def <nome>(<param_1>: <tipo_param) -> <tipo_retorno>:\n",
        "  <instrucoes>\n",
        "  return resultado\n",
        "\n",
        "#Exemplo\n",
        "def media(lista: list) -> float:\n",
        "  calculo = sum(lista)/len(lista)\n",
        "  return calculo"
      ],
      "metadata": {
        "id": "pZ5jGZgd4Y5X"
      },
      "execution_count": null,
      "outputs": []
    },
    {
      "cell_type": "code",
      "source": [
        "# Default Value - definindo um valor padrão a um argumento da função, caso nenhum valor seja passado pelo usuário\n",
        "<nome_variavel>: <tipo_variavel> = <valor_variavel>\n",
        "\n",
        "# Exemplo com a função media\n",
        "def media(lista: list=[0]) -> float:\n",
        "  calculo = sum(lista)/len(lista)\n",
        "  return calculo\n",
        "\n",
        "# Caso a lista não seja passada, seu valor será 0"
      ],
      "metadata": {
        "id": "s-20UnNb4_Qu"
      },
      "execution_count": null,
      "outputs": []
    },
    {
      "cell_type": "code",
      "source": [
        "# Docstring - String usada para documentar\n",
        "def<nome>(param_1, <param_2):\n",
        "  ''' Texto documentando a função...\n",
        "  '''\n",
        "  <instrucoes>\n",
        "  return resultado\n",
        "\n",
        "# Se executarmos o codigo help(<nome da funcao>), ele terá a documentação como saída"
      ],
      "metadata": {
        "id": "j0VgMitE52OL"
      },
      "execution_count": null,
      "outputs": []
    },
    {
      "cell_type": "markdown",
      "source": [
        "Funçoes Lambda"
      ],
      "metadata": {
        "id": "uflmSq206qEc"
      }
    },
    {
      "cell_type": "code",
      "source": [
        "# Formato\n",
        "lambda <variavel>: <expressao>"
      ],
      "metadata": {
        "id": "hnhlz6hC6oeT"
      },
      "execution_count": null,
      "outputs": []
    },
    {
      "cell_type": "code",
      "source": [
        "# Comparando uma função de qualitativo no formato de função para função anônima\n",
        "nota = float(input(\"Digite a nota do(a) estudante: \"))\n",
        "\n",
        "def qualitativo(x):\n",
        "  return x + 0.5\n",
        "\n",
        "qualitativo(nota)"
      ],
      "metadata": {
        "colab": {
          "base_uri": "https://localhost:8080/"
        },
        "id": "YLMY10HyW92B",
        "outputId": "136c7fb6-a6b7-42c2-8962-30f38c29c78d"
      },
      "execution_count": 1,
      "outputs": [
        {
          "name": "stdout",
          "output_type": "stream",
          "text": [
            "Digite a nota do(a) estudante: 8\n"
          ]
        },
        {
          "output_type": "execute_result",
          "data": {
            "text/plain": [
              "8.5"
            ]
          },
          "metadata": {},
          "execution_count": 1
        }
      ]
    },
    {
      "cell_type": "code",
      "source": [
        "# Testando a mesma função para função lambda\n",
        "nota = float(input(\"Digite a nota do(a) estudante: \"))\n",
        "\n",
        "qualitativo = lambda x: x + 0.5\n",
        "qualitativo(nota)"
      ],
      "metadata": {
        "colab": {
          "base_uri": "https://localhost:8080/"
        },
        "id": "QMjaegX9Xtvv",
        "outputId": "f7433afd-8182-48b1-9830-d4fa18280567"
      },
      "execution_count": 2,
      "outputs": [
        {
          "name": "stdout",
          "output_type": "stream",
          "text": [
            "Digite a nota do(a) estudante: 8\n"
          ]
        },
        {
          "output_type": "execute_result",
          "data": {
            "text/plain": [
              "8.5"
            ]
          },
          "metadata": {},
          "execution_count": 2
        }
      ]
    },
    {
      "cell_type": "markdown",
      "source": [
        "Situação: Calculando média ponderada com lambda"
      ],
      "metadata": {
        "id": "qJR4FUewYQea"
      }
    },
    {
      "cell_type": "code",
      "source": [
        "n1 = float(input(\"Digite a nota 1: \"))\n",
        "n2 = float(input(\"Digite a nota 2: \"))\n",
        "n3 = float(input(\"Digite a nota 3: \"))\n",
        "\n",
        "media_ponderada = lambda x, y, z: (x * 3 + y * 2 + z * 5)/10\n",
        "media_estudante = media_ponderada(n1, n2, n3)\n",
        "print(f'A média do(a) estudante é {media_estudante}')"
      ],
      "metadata": {
        "colab": {
          "base_uri": "https://localhost:8080/"
        },
        "id": "NuOeIh6ZYV1Q",
        "outputId": "845a68df-12d6-488b-d017-30889c629157"
      },
      "execution_count": 8,
      "outputs": [
        {
          "output_type": "stream",
          "name": "stdout",
          "text": [
            "Digite a nota 1: 10\n",
            "Digite a nota 2: 8\n",
            "Digite a nota 3: 9\n",
            "A média do(a) estudante é 9.1\n"
          ]
        }
      ]
    },
    {
      "cell_type": "markdown",
      "source": [
        "Lambda + Map (Iterador)"
      ],
      "metadata": {
        "id": "oIANjp0eZUqq"
      }
    },
    {
      "cell_type": "code",
      "source": [
        "# Formato\n",
        "map(<lambda function>, <iterador>)"
      ],
      "metadata": {
        "id": "waLw2c13ZbU6"
      },
      "execution_count": null,
      "outputs": []
    },
    {
      "cell_type": "code",
      "source": [
        "notas = [6.0, 7.0, 9.0, 5.5, 8.0]\n",
        "qualitativo = 0.5"
      ],
      "metadata": {
        "id": "AVpMdZzoZjKZ"
      },
      "execution_count": 9,
      "outputs": []
    },
    {
      "cell_type": "code",
      "source": [
        "notas_atualizadas = map(lambda x: x + qualitativo, notas)\n",
        "# para usar o lambda com listas, precisamos do map para iterar\n",
        "notas_atualizadas\n",
        "# o map criou um \"mapa\", para conseguirmos ler precisamos transformar em uma lista"
      ],
      "metadata": {
        "colab": {
          "base_uri": "https://localhost:8080/"
        },
        "id": "RFpQc8gmZ00j",
        "outputId": "b18af66d-a46a-4b69-bcb4-5b93c851deb1"
      },
      "execution_count": 10,
      "outputs": [
        {
          "output_type": "execute_result",
          "data": {
            "text/plain": [
              "<map at 0x79f6c05132b0>"
            ]
          },
          "metadata": {},
          "execution_count": 10
        }
      ]
    },
    {
      "cell_type": "code",
      "source": [
        "notas_atualizadas = list(notas_atualizadas)\n",
        "notas_atualizadas"
      ],
      "metadata": {
        "colab": {
          "base_uri": "https://localhost:8080/"
        },
        "id": "rMkiY9skaZgJ",
        "outputId": "1b6eb00b-bd89-4f10-c023-ff177d870783"
      },
      "execution_count": 11,
      "outputs": [
        {
          "output_type": "execute_result",
          "data": {
            "text/plain": [
              "[6.5, 7.5, 9.5, 6.0, 8.5]"
            ]
          },
          "metadata": {},
          "execution_count": 11
        }
      ]
    },
    {
      "cell_type": "markdown",
      "source": [
        "Exercícios"
      ],
      "metadata": {
        "id": "xk-8Yxa0bEKb"
      }
    },
    {
      "cell_type": "code",
      "source": [
        "lista = [16, 14, 10, 55, 90, 70, 100, 80]\n",
        "\n",
        "tamanho = len(lista)\n",
        "maior = max(lista)\n",
        "menor = min(lista)\n",
        "soma = sum(lista)\n",
        "\n",
        "print(f'A Lista possui {tamanho} números, sendo o maior {maior} e o menor {menor}. A soma dos valores é de {soma}')"
      ],
      "metadata": {
        "colab": {
          "base_uri": "https://localhost:8080/"
        },
        "id": "LUo2LAOCbGAe",
        "outputId": "cc5c0948-310a-4759-a7fc-4174cc68ab13"
      },
      "execution_count": 12,
      "outputs": [
        {
          "output_type": "stream",
          "name": "stdout",
          "text": [
            "A Lista possui 8 números, sendo o maior 100 e o menor 10. A soma dos valores é de 435\n"
          ]
        }
      ]
    },
    {
      "cell_type": "code",
      "source": [],
      "metadata": {
        "id": "y4yY8pABblGK"
      },
      "execution_count": null,
      "outputs": []
    },
    {
      "cell_type": "markdown",
      "source": [
        "Estruturas de dados"
      ],
      "metadata": {
        "id": "KpB9U0ryb5E4"
      }
    },
    {
      "cell_type": "code",
      "source": [
        "# Lista de listas, vamos resolver desafios envolvendo estruturas de dados compostas"
      ],
      "metadata": {
        "id": "w_fb5n1VcDPx"
      },
      "execution_count": null,
      "outputs": []
    },
    {
      "cell_type": "code",
      "source": [
        "notas_turma = ['João', 9.0, 8.0, 7.0, 'Maria', 9.0, 8.0, 10.0, 'José', 5.0, 6.0, 8.0]"
      ],
      "metadata": {
        "id": "EK5w9jKocm1s"
      },
      "execution_count": 13,
      "outputs": []
    },
    {
      "cell_type": "code",
      "source": [
        "nomes = []\n",
        "notas_juntas = []\n",
        "\n",
        "for i in range(len(notas_turma)):\n",
        "  if(i % 4 == 0):\n",
        "    nomes.append(notas_turma[i])\n",
        "  else:\n",
        "    notas_juntas.append(notas_turma[i])"
      ],
      "metadata": {
        "id": "MBlvX_PDc0rE"
      },
      "execution_count": 14,
      "outputs": []
    },
    {
      "cell_type": "code",
      "source": [
        "nomes"
      ],
      "metadata": {
        "colab": {
          "base_uri": "https://localhost:8080/"
        },
        "id": "nR2kNysfdNKB",
        "outputId": "76ac6045-afbb-42a6-9551-fc0a2dd5f7e4"
      },
      "execution_count": 15,
      "outputs": [
        {
          "output_type": "execute_result",
          "data": {
            "text/plain": [
              "['João', 'Maria', 'José']"
            ]
          },
          "metadata": {},
          "execution_count": 15
        }
      ]
    },
    {
      "cell_type": "code",
      "source": [
        "notas_juntas"
      ],
      "metadata": {
        "colab": {
          "base_uri": "https://localhost:8080/"
        },
        "id": "NHv7Dzy4dPk_",
        "outputId": "0f875786-2a94-43c2-a4b0-c7e452d2c413"
      },
      "execution_count": 16,
      "outputs": [
        {
          "output_type": "execute_result",
          "data": {
            "text/plain": [
              "[9.0, 8.0, 7.0, 9.0, 8.0, 10.0, 5.0, 6.0, 8.0]"
            ]
          },
          "metadata": {},
          "execution_count": 16
        }
      ]
    },
    {
      "cell_type": "code",
      "source": [
        "notas = []\n",
        "\n",
        "# vamos iterar para salvar uma lista de cada um dos três estudantes, para isso vamos utilizar for,\n",
        "# com range(0 -> valor inicial, len(notas_juntas -> valor max, 3 -> pulando a cada três elementos))\n",
        "\n",
        "for i in range(0, len(notas_juntas), 3):\n",
        "  notas.append([notas_juntas[i], notas_juntas[i+1], notas_juntas[i+2]])"
      ],
      "metadata": {
        "id": "GhAY_TizdUJc"
      },
      "execution_count": 17,
      "outputs": []
    },
    {
      "cell_type": "code",
      "source": [
        "notas"
      ],
      "metadata": {
        "colab": {
          "base_uri": "https://localhost:8080/"
        },
        "id": "dlOf3Ppmd8qy",
        "outputId": "27651f2c-99be-4ba9-a8cc-081650932ca2"
      },
      "execution_count": 18,
      "outputs": [
        {
          "output_type": "execute_result",
          "data": {
            "text/plain": [
              "[[9.0, 8.0, 7.0], [9.0, 8.0, 10.0], [5.0, 6.0, 8.0]]"
            ]
          },
          "metadata": {},
          "execution_count": 18
        }
      ]
    },
    {
      "cell_type": "code",
      "source": [
        "# Como acessar as listas dentro da lista\n",
        "notas[0]\n",
        "\n",
        "# Como acessar valores dentro da lista\n",
        "notas[0][2]"
      ],
      "metadata": {
        "colab": {
          "base_uri": "https://localhost:8080/"
        },
        "id": "RoWd_zbUeiZ6",
        "outputId": "6b2e9b36-8c31-4c4f-b37b-67e157fc49f5"
      },
      "execution_count": 19,
      "outputs": [
        {
          "output_type": "execute_result",
          "data": {
            "text/plain": [
              "7.0"
            ]
          },
          "metadata": {},
          "execution_count": 19
        }
      ]
    },
    {
      "cell_type": "markdown",
      "source": [
        "## Tuplas\n",
        "Tuplas são estruturas imutáveis que são utilizadas para armazenar conjuntos de múltiplos itens e frequentemente são aplicadas para agrupar dados que não devem ser modificados. Ou seja, não é possível adicionar, alterar ou remover seus elementos depois de criadas."
      ],
      "metadata": {
        "id": "2BuqxQZOfUHi"
      }
    },
    {
      "cell_type": "code",
      "source": [
        "cadastro = ('Juliana', 20, 'São Paulo', 'SP')"
      ],
      "metadata": {
        "id": "_tGic1Jif2Hn"
      },
      "execution_count": 20,
      "outputs": []
    },
    {
      "cell_type": "code",
      "source": [
        "print(cadastro[0])\n",
        "print(cadastro[1])\n",
        "print(cadastro[2])\n",
        "print(cadastro[-1]) # podemos utilizar -1 para acessar o último elemento"
      ],
      "metadata": {
        "colab": {
          "base_uri": "https://localhost:8080/"
        },
        "id": "qrmmV3WugEci",
        "outputId": "c3cd045a-e90d-43f1-b30b-06d2c2d39a4d"
      },
      "execution_count": 22,
      "outputs": [
        {
          "output_type": "stream",
          "name": "stdout",
          "text": [
            "Juliana\n",
            "20\n",
            "São Paulo\n",
            "SP\n"
          ]
        }
      ]
    },
    {
      "cell_type": "code",
      "source": [
        "nome, idade, cidade, estado = cadastro\n",
        "print(f'Nome: {nome}\\nIdade: {idade}\\nCidade: {cidade}\\nEstado: {estado}')"
      ],
      "metadata": {
        "colab": {
          "base_uri": "https://localhost:8080/"
        },
        "id": "MsDlF47LgWjO",
        "outputId": "e482e004-dad6-4682-f504-d5fadc4488a6"
      },
      "execution_count": 23,
      "outputs": [
        {
          "output_type": "stream",
          "name": "stdout",
          "text": [
            "Nome: Juliana\n",
            "Idade: 20\n",
            "Cidade: São Paulo\n",
            "Estado: SP\n"
          ]
        }
      ]
    },
    {
      "cell_type": "code",
      "source": [
        "# Lista de tuplas\n",
        "## Situação - Gerar ID para uma lista de estudantes\n",
        "\n",
        "estudantes = ['João', 'Maria', 'José', 'Ana']"
      ],
      "metadata": {
        "id": "lAAMdpD3gl7-"
      },
      "execution_count": 36,
      "outputs": []
    },
    {
      "cell_type": "code",
      "source": [
        "from random import randint\n",
        "def gera_codigo():\n",
        "  return str(randint(0,999))"
      ],
      "metadata": {
        "id": "O6dPBn8DhH2S"
      },
      "execution_count": 37,
      "outputs": []
    },
    {
      "cell_type": "code",
      "source": [
        "codigo_estudantes = []\n",
        "\n",
        "for i in range(len(estudantes)):\n",
        "  codigo_estudantes.append((estudantes[i], estudantes[i][0] + gera_codigo()))\n",
        "\n",
        "codigo_estudantes"
      ],
      "metadata": {
        "colab": {
          "base_uri": "https://localhost:8080/"
        },
        "id": "1Ccj4lw1i7YZ",
        "outputId": "f509628e-4c6b-48d9-db59-0a9ad34e501b"
      },
      "execution_count": 41,
      "outputs": [
        {
          "output_type": "execute_result",
          "data": {
            "text/plain": [
              "[('João', 'J977'), ('Maria', 'M187'), ('José', 'J856'), ('Ana', 'A135')]"
            ]
          },
          "metadata": {},
          "execution_count": 41
        }
      ]
    },
    {
      "cell_type": "markdown",
      "source": [
        "## List comprehension\n",
        "Forma simples para criação de lista"
      ],
      "metadata": {
        "id": "FbTzzmyejl5X"
      }
    },
    {
      "cell_type": "code",
      "source": [
        "# Formato padrão\n",
        "[expressao for item in lista]"
      ],
      "metadata": {
        "id": "TtmgDzscjqoW"
      },
      "execution_count": null,
      "outputs": []
    },
    {
      "cell_type": "code",
      "source": [
        "# Situação calculando média de notas de uma lista de listas\n",
        "\n",
        "notas = [[8.0, 9.0, 7.0], [5.0, 7.0, 6.0], [5.0, 10.0, 9.0]]\n",
        "\n",
        "def media(lista: list=[0]) -> float:\n",
        "  calculo = sum(lista)/len(lista)\n",
        "  return calculo\n",
        "\n",
        "medias = [round(media(nota),1) for nota in notas]\n",
        "medias"
      ],
      "metadata": {
        "colab": {
          "base_uri": "https://localhost:8080/"
        },
        "id": "JWu_gGO4jwAX",
        "outputId": "aab9f323-3964-4afe-c8c1-39e0df6caf40"
      },
      "execution_count": 42,
      "outputs": [
        {
          "output_type": "execute_result",
          "data": {
            "text/plain": [
              "[8.0, 6.0, 8.0]"
            ]
          },
          "metadata": {},
          "execution_count": 42
        }
      ]
    },
    {
      "cell_type": "code",
      "source": [
        "# Situação 2 - \"Filtrando\" a lista apenas com alunos com nota maior ou igual a 8 e juntando com a lista de nomes com ID\n",
        "\n",
        "# Formato\n",
        "[expressao for item in lista if condicao]"
      ],
      "metadata": {
        "id": "7kDoC1umlK0-"
      },
      "execution_count": null,
      "outputs": []
    },
    {
      "cell_type": "code",
      "source": [
        "medias = [8.0, 6.0, 8.0]\n",
        "nomes = [('João', 'J977'), ('Maria', 'M187'), ('José', 'J856')]"
      ],
      "metadata": {
        "id": "wlyvTC-QlefD"
      },
      "execution_count": 46,
      "outputs": []
    },
    {
      "cell_type": "code",
      "source": [
        "# Gerando a lista de nomes (extraindo da tupla)\n",
        "nomes = [nome[0] for nome in nomes]\n",
        "nomes"
      ],
      "metadata": {
        "colab": {
          "base_uri": "https://localhost:8080/"
        },
        "id": "Y7kwEZ8Pl0ap",
        "outputId": "21aefbd4-cdd4-4f9c-9fb9-61804e4c3aea"
      },
      "execution_count": 47,
      "outputs": [
        {
          "output_type": "execute_result",
          "data": {
            "text/plain": [
              "['João', 'Maria', 'José']"
            ]
          },
          "metadata": {},
          "execution_count": 47
        }
      ]
    },
    {
      "cell_type": "markdown",
      "source": [
        "Para conseguirmos parear as médias e nomes facilmente, podemos recorrer a uma built-in function: zip()\n",
        "Ela recebe um ou mais iteráveis (lista, string, dict, etc) e retorna-los como um iterador de tuplas onde cada elemento dos iteráveis são pareados"
      ],
      "metadata": {
        "id": "xS0pSz7EmNWV"
      }
    },
    {
      "cell_type": "code",
      "source": [
        "estudantes = list(zip(nomes, medias))\n",
        "estudantes"
      ],
      "metadata": {
        "colab": {
          "base_uri": "https://localhost:8080/"
        },
        "id": "HTvtW784ml3-",
        "outputId": "6d79187f-c9a8-4cab-c3b3-177182fcf9db"
      },
      "execution_count": 52,
      "outputs": [
        {
          "output_type": "execute_result",
          "data": {
            "text/plain": [
              "[('João', 8.0), ('Maria', 6.0), ('José', 8.0)]"
            ]
          },
          "metadata": {},
          "execution_count": 52
        }
      ]
    },
    {
      "cell_type": "code",
      "source": [
        "candidatos = [estudante[0] for estudante in estudantes if estudante[1] >= 8.0]\n",
        "candidatos"
      ],
      "metadata": {
        "colab": {
          "base_uri": "https://localhost:8080/"
        },
        "id": "BKHcEDctmwPY",
        "outputId": "9521481a-b9f1-4b9f-aee1-21dc941005cc"
      },
      "execution_count": 55,
      "outputs": [
        {
          "output_type": "execute_result",
          "data": {
            "text/plain": [
              "['João', 'José']"
            ]
          },
          "metadata": {},
          "execution_count": 55
        }
      ]
    },
    {
      "cell_type": "code",
      "source": [
        "# List Comprehension com if else\n",
        "## Formato\n",
        "[resultado_if if cond else resultado_else for item in lista]"
      ],
      "metadata": {
        "id": "60ZbCuZIneSA"
      },
      "execution_count": null,
      "outputs": []
    },
    {
      "cell_type": "code",
      "source": [
        "nomes = [('João', 'J977'), ('Maria', 'M187'), ('José', 'J856')]\n",
        "medias = [8.0, 6.0, 5.0]\n",
        "notas = [[8.0, 9.0, 7.0], [5.0, 7.0, 6.0], [5.0, 6.0, 4.0]]"
      ],
      "metadata": {
        "id": "05jQ4o7Qn9Z5"
      },
      "execution_count": 59,
      "outputs": []
    },
    {
      "cell_type": "code",
      "source": [
        "situacao = [\"Aprovado(a)\" if media >= 6 else \"Reprovado(a)\" for media in medias]\n",
        "situacao"
      ],
      "metadata": {
        "colab": {
          "base_uri": "https://localhost:8080/"
        },
        "id": "cOSo2NoToQ6D",
        "outputId": "985977c7-a7fd-4329-d817-481a8690e7a9"
      },
      "execution_count": 60,
      "outputs": [
        {
          "output_type": "execute_result",
          "data": {
            "text/plain": [
              "['Aprovado(a)', 'Aprovado(a)', 'Reprovado(a)']"
            ]
          },
          "metadata": {},
          "execution_count": 60
        }
      ]
    },
    {
      "cell_type": "code",
      "source": [
        "lista_completa = [nomes, notas, medias, situacao]\n",
        "lista_completa"
      ],
      "metadata": {
        "colab": {
          "base_uri": "https://localhost:8080/"
        },
        "id": "0ugD7nrxpBG4",
        "outputId": "dafd2c8b-3b94-4afc-e1d3-f00363d963f1"
      },
      "execution_count": 62,
      "outputs": [
        {
          "output_type": "execute_result",
          "data": {
            "text/plain": [
              "[[('João', 'J977'), ('Maria', 'M187'), ('José', 'J856')],\n",
              " [[8.0, 9.0, 7.0], [5.0, 7.0, 6.0], [5.0, 6.0, 4.0]],\n",
              " [8.0, 6.0, 5.0],\n",
              " ['Aprovado(a)', 'Aprovado(a)', 'Reprovado(a)']]"
            ]
          },
          "metadata": {},
          "execution_count": 62
        }
      ]
    },
    {
      "cell_type": "markdown",
      "source": [
        "## Dict comprehension\n",
        "\n",
        "Formato padrão"
      ],
      "metadata": {
        "id": "t2-XcWNtpvZ5"
      }
    },
    {
      "cell_type": "code",
      "source": [
        "{chave: valor for item in lista}"
      ],
      "metadata": {
        "id": "eeTF3juxp72p"
      },
      "execution_count": null,
      "outputs": []
    },
    {
      "cell_type": "code",
      "source": [
        "lista_completa = [[('João', 'J977'), ('Maria', 'M187'), ('José', 'J856')],\n",
        " [[8.0, 9.0, 7.0], [5.0, 7.0, 6.0], [5.0, 6.0, 4.0]],\n",
        " [8.0, 6.0, 5.0],\n",
        " ['Aprovado(a)', 'Aprovado(a)', 'Reprovado(a)']]"
      ],
      "metadata": {
        "id": "W5ckLckWqCNC"
      },
      "execution_count": 63,
      "outputs": []
    },
    {
      "cell_type": "code",
      "source": [
        "coluna = ['Notas', 'Média final', 'Situação']\n",
        "\n",
        "cadastro = {coluna[i]: lista_completa[i+1] for i in range(len(coluna))}\n",
        "cadastro"
      ],
      "metadata": {
        "colab": {
          "base_uri": "https://localhost:8080/"
        },
        "id": "mVzYrXJXqSBC",
        "outputId": "6b788a11-2d07-47ab-c626-3734b61b7f88"
      },
      "execution_count": 64,
      "outputs": [
        {
          "output_type": "execute_result",
          "data": {
            "text/plain": [
              "{'Notas': [[8.0, 9.0, 7.0], [5.0, 7.0, 6.0], [5.0, 6.0, 4.0]],\n",
              " 'Média final': [8.0, 6.0, 5.0],\n",
              " 'Situação': ['Aprovado(a)', 'Aprovado(a)', 'Reprovado(a)']}"
            ]
          },
          "metadata": {},
          "execution_count": 64
        }
      ]
    },
    {
      "cell_type": "code",
      "source": [
        "# Por fim, vamos adicionar o nome dos estudantes nesse dicionário, extraindo apenas seus nomes\n",
        "cadastro['Estudante'] = [lista_completa[0][i][0] for i in range(len(lista_completa[0]))]\n",
        "cadastro"
      ],
      "metadata": {
        "colab": {
          "base_uri": "https://localhost:8080/"
        },
        "id": "1INinZImq8rN",
        "outputId": "d562a642-91e7-4411-9278-f4eb56993d3f"
      },
      "execution_count": 65,
      "outputs": [
        {
          "output_type": "execute_result",
          "data": {
            "text/plain": [
              "{'Notas': [[8.0, 9.0, 7.0], [5.0, 7.0, 6.0], [5.0, 6.0, 4.0]],\n",
              " 'Média final': [8.0, 6.0, 5.0],\n",
              " 'Situação': ['Aprovado(a)', 'Aprovado(a)', 'Reprovado(a)'],\n",
              " 'Estudante': ['João', 'Maria', 'José']}"
            ]
          },
          "metadata": {},
          "execution_count": 65
        }
      ]
    },
    {
      "cell_type": "markdown",
      "source": [
        "## Lidando com exceções"
      ],
      "metadata": {
        "id": "XOkygI1nryhw"
      }
    },
    {
      "cell_type": "code",
      "source": [
        "try:\n",
        "  # código a ser executado. Caso uma exceção seja lançada, pare imediatamente\n",
        "except <nome_da_excecao as e>:\n",
        "  # se uma exceção for lançada no try, rode esse código"
      ],
      "metadata": {
        "id": "7sQ8rH5Tr1X1"
      },
      "execution_count": null,
      "outputs": []
    },
    {
      "cell_type": "code",
      "source": [
        "notas = {'João': [9.0, 8.0, 10.0], 'Maria': [10.0, 7.0, 8.0], 'José': [8.0, 9.0, 9.0]}"
      ],
      "metadata": {
        "id": "o_rWa_17uV1c"
      },
      "execution_count": 66,
      "outputs": []
    },
    {
      "cell_type": "code",
      "source": [
        "nome = input('Digite o nome do estudante: ')\n",
        "resultado = notas[nome]\n",
        "resultado"
      ],
      "metadata": {
        "colab": {
          "base_uri": "https://localhost:8080/"
        },
        "id": "hDhwKbTau4yf",
        "outputId": "134333ff-1ec6-4bf6-a688-42bf100fd858"
      },
      "execution_count": 67,
      "outputs": [
        {
          "name": "stdout",
          "output_type": "stream",
          "text": [
            "Digite o nome do estudante: João\n"
          ]
        },
        {
          "output_type": "execute_result",
          "data": {
            "text/plain": [
              "[9.0, 8.0, 10.0]"
            ]
          },
          "metadata": {},
          "execution_count": 67
        }
      ]
    },
    {
      "cell_type": "code",
      "source": [
        "try:\n",
        "  nome = input('Digite o nome do estudante: ')\n",
        "  resultado = notas[nome]\n",
        "except KeyError:\n",
        "  print(\"Estudante não encontrado\")"
      ],
      "metadata": {
        "colab": {
          "base_uri": "https://localhost:8080/"
        },
        "id": "bA1AUufjvJSv",
        "outputId": "e5547f5f-58d1-4152-deae-1d9e546bf73d"
      },
      "execution_count": 70,
      "outputs": [
        {
          "output_type": "stream",
          "name": "stdout",
          "text": [
            "Digite o nome do estudante: Paulo\n",
            "Estudante não encontrado\n"
          ]
        }
      ]
    },
    {
      "cell_type": "code",
      "source": [
        "# Try except com else\n",
        "try:\n",
        "  nome = input('Digite o nome do estudante: ')\n",
        "  resultado = notas[nome]\n",
        "except KeyError:\n",
        "  print(\"Estudante não encontrado\")\n",
        "else:\n",
        " print(resultado)"
      ],
      "metadata": {
        "colab": {
          "base_uri": "https://localhost:8080/"
        },
        "id": "o-8pjuEMvr0M",
        "outputId": "d461c46e-98b2-42ca-8233-dedeea7bf1b4"
      },
      "execution_count": 73,
      "outputs": [
        {
          "output_type": "stream",
          "name": "stdout",
          "text": [
            "Digite o nome do estudante: João\n",
            "[9.0, 8.0, 10.0]\n"
          ]
        }
      ]
    },
    {
      "cell_type": "code",
      "source": [
        "# Try except com else e finally\n",
        "try:\n",
        "  # código a ser executado. Caso uma exceção seja lançada, pare imediatamente\n",
        "except:\n",
        "  # se uma exceção for lançada no try, rode esse código\n",
        "else:\n",
        "  # se não houver uma exceção lançada pelo try, rosa essa parte\n",
        "finally:\n",
        "  # rode essa parte (com ou sem exceção)"
      ],
      "metadata": {
        "id": "wsocIRBtwMho"
      },
      "execution_count": null,
      "outputs": []
    },
    {
      "cell_type": "code",
      "source": [
        "try:\n",
        "  nome = input('Digite o nome do estudante: ')\n",
        "  resultado = notas[nome]\n",
        "except KeyError:\n",
        "  print(\"Estudante não encontrado\")\n",
        "else:\n",
        " print(resultado)\n",
        "finally:\n",
        "  print(\"A consulta foi encerrada!\")"
      ],
      "metadata": {
        "colab": {
          "base_uri": "https://localhost:8080/"
        },
        "id": "uts_5ZbtwuNq",
        "outputId": "ffb43adc-96f9-4920-9f5e-82b5a2c89d05"
      },
      "execution_count": 74,
      "outputs": [
        {
          "output_type": "stream",
          "name": "stdout",
          "text": [
            "Digite o nome do estudante: Thiago\n",
            "Estudante não encontrado\n",
            "A consulta foi encerrada!\n"
          ]
        }
      ]
    },
    {
      "cell_type": "markdown",
      "source": [
        "## Raise\n",
        "Uma outra forma de trabalhar com as exceções em seu código, é criar as suas próprias exceções para determinados comportamentos que deseja em seu código\n",
        "\n",
        "Para isso, utilizamos a palavra chave raise junto ao tipo de exceção que deseja lançar e uma mensagem a ser exibida\n",
        "\n",
        "\n",
        "```\n",
        "raise NomeDoErro(\"Mensagem desejada\")\n",
        "```\n",
        "\n"
      ],
      "metadata": {
        "id": "opEBtkefyATy"
      }
    },
    {
      "cell_type": "code",
      "source": [
        "def media(lista: list=[0]) -> float:\n",
        "  ''' Função para calcular a média de notas passadas por uma lista\n",
        "\n",
        "  lista: list, default [0]\n",
        "    Lista com as notas para calcular a média\n",
        "  return = calculo: float\n",
        "    Média calculada\n",
        "  '''\n",
        "\n",
        "  calculo = sum(lista) / len(lista)\n",
        "\n",
        "  if len(lista) > 4:\n",
        "    raise ValueError(\"A lista não pode possuir mais de 4 notas.\")\n",
        "\n",
        "  return calculo"
      ],
      "metadata": {
        "id": "sx88fUF9ysEm"
      },
      "execution_count": 75,
      "outputs": []
    },
    {
      "cell_type": "code",
      "source": [
        "notas = [6, 7 , 8, 8, 9]\n",
        "resultado = media(notas)\n",
        "resultado"
      ],
      "metadata": {
        "colab": {
          "base_uri": "https://localhost:8080/",
          "height": 297
        },
        "id": "JFXwjiZ52t9e",
        "outputId": "8f0cab6f-03ed-452b-8ab6-3f331d6ffd24"
      },
      "execution_count": 76,
      "outputs": [
        {
          "output_type": "error",
          "ename": "ValueError",
          "evalue": "A lista não pode possuir mais de 4 notas.",
          "traceback": [
            "\u001b[0;31m---------------------------------------------------------------------------\u001b[0m",
            "\u001b[0;31mValueError\u001b[0m                                Traceback (most recent call last)",
            "\u001b[0;32m/tmp/ipython-input-76-1867369376.py\u001b[0m in \u001b[0;36m<cell line: 0>\u001b[0;34m()\u001b[0m\n\u001b[1;32m      1\u001b[0m \u001b[0mnotas\u001b[0m \u001b[0;34m=\u001b[0m \u001b[0;34m[\u001b[0m\u001b[0;36m6\u001b[0m\u001b[0;34m,\u001b[0m \u001b[0;36m7\u001b[0m \u001b[0;34m,\u001b[0m \u001b[0;36m8\u001b[0m\u001b[0;34m,\u001b[0m \u001b[0;36m8\u001b[0m\u001b[0;34m,\u001b[0m \u001b[0;36m9\u001b[0m\u001b[0;34m]\u001b[0m\u001b[0;34m\u001b[0m\u001b[0;34m\u001b[0m\u001b[0m\n\u001b[0;32m----> 2\u001b[0;31m \u001b[0mresultado\u001b[0m \u001b[0;34m=\u001b[0m \u001b[0mmedia\u001b[0m\u001b[0;34m(\u001b[0m\u001b[0mnotas\u001b[0m\u001b[0;34m)\u001b[0m\u001b[0;34m\u001b[0m\u001b[0;34m\u001b[0m\u001b[0m\n\u001b[0m\u001b[1;32m      3\u001b[0m \u001b[0mresultado\u001b[0m\u001b[0;34m\u001b[0m\u001b[0;34m\u001b[0m\u001b[0m\n",
            "\u001b[0;32m/tmp/ipython-input-75-2877114224.py\u001b[0m in \u001b[0;36mmedia\u001b[0;34m(lista)\u001b[0m\n\u001b[1;32m     11\u001b[0m \u001b[0;34m\u001b[0m\u001b[0m\n\u001b[1;32m     12\u001b[0m   \u001b[0;32mif\u001b[0m \u001b[0mlen\u001b[0m\u001b[0;34m(\u001b[0m\u001b[0mlista\u001b[0m\u001b[0;34m)\u001b[0m \u001b[0;34m>\u001b[0m \u001b[0;36m4\u001b[0m\u001b[0;34m:\u001b[0m\u001b[0;34m\u001b[0m\u001b[0;34m\u001b[0m\u001b[0m\n\u001b[0;32m---> 13\u001b[0;31m     \u001b[0;32mraise\u001b[0m \u001b[0mValueError\u001b[0m\u001b[0;34m(\u001b[0m\u001b[0;34m\"A lista não pode possuir mais de 4 notas.\"\u001b[0m\u001b[0;34m)\u001b[0m\u001b[0;34m\u001b[0m\u001b[0;34m\u001b[0m\u001b[0m\n\u001b[0m\u001b[1;32m     14\u001b[0m \u001b[0;34m\u001b[0m\u001b[0m\n\u001b[1;32m     15\u001b[0m   \u001b[0;32mreturn\u001b[0m \u001b[0mcalculo\u001b[0m\u001b[0;34m\u001b[0m\u001b[0;34m\u001b[0m\u001b[0m\n",
            "\u001b[0;31mValueError\u001b[0m: A lista não pode possuir mais de 4 notas."
          ]
        }
      ]
    },
    {
      "cell_type": "code",
      "source": [
        "notas = [6, 7 , 8, 8, 9, \"8\"]\n",
        "resultado = media(notas)\n",
        "resultado"
      ],
      "metadata": {
        "colab": {
          "base_uri": "https://localhost:8080/",
          "height": 297
        },
        "id": "ya3EO7Cf2xTH",
        "outputId": "12a83050-393c-4291-9108-63a8ee893934"
      },
      "execution_count": 77,
      "outputs": [
        {
          "output_type": "error",
          "ename": "TypeError",
          "evalue": "unsupported operand type(s) for +: 'int' and 'str'",
          "traceback": [
            "\u001b[0;31m---------------------------------------------------------------------------\u001b[0m",
            "\u001b[0;31mTypeError\u001b[0m                                 Traceback (most recent call last)",
            "\u001b[0;32m/tmp/ipython-input-77-413842483.py\u001b[0m in \u001b[0;36m<cell line: 0>\u001b[0;34m()\u001b[0m\n\u001b[1;32m      1\u001b[0m \u001b[0mnotas\u001b[0m \u001b[0;34m=\u001b[0m \u001b[0;34m[\u001b[0m\u001b[0;36m6\u001b[0m\u001b[0;34m,\u001b[0m \u001b[0;36m7\u001b[0m \u001b[0;34m,\u001b[0m \u001b[0;36m8\u001b[0m\u001b[0;34m,\u001b[0m \u001b[0;36m8\u001b[0m\u001b[0;34m,\u001b[0m \u001b[0;36m9\u001b[0m\u001b[0;34m,\u001b[0m \u001b[0;34m\"8\"\u001b[0m\u001b[0;34m]\u001b[0m\u001b[0;34m\u001b[0m\u001b[0;34m\u001b[0m\u001b[0m\n\u001b[0;32m----> 2\u001b[0;31m \u001b[0mresultado\u001b[0m \u001b[0;34m=\u001b[0m \u001b[0mmedia\u001b[0m\u001b[0;34m(\u001b[0m\u001b[0mnotas\u001b[0m\u001b[0;34m)\u001b[0m\u001b[0;34m\u001b[0m\u001b[0;34m\u001b[0m\u001b[0m\n\u001b[0m\u001b[1;32m      3\u001b[0m \u001b[0mresultado\u001b[0m\u001b[0;34m\u001b[0m\u001b[0;34m\u001b[0m\u001b[0m\n",
            "\u001b[0;32m/tmp/ipython-input-75-2877114224.py\u001b[0m in \u001b[0;36mmedia\u001b[0;34m(lista)\u001b[0m\n\u001b[1;32m      8\u001b[0m   '''\n\u001b[1;32m      9\u001b[0m \u001b[0;34m\u001b[0m\u001b[0m\n\u001b[0;32m---> 10\u001b[0;31m   \u001b[0mcalculo\u001b[0m \u001b[0;34m=\u001b[0m \u001b[0msum\u001b[0m\u001b[0;34m(\u001b[0m\u001b[0mlista\u001b[0m\u001b[0;34m)\u001b[0m \u001b[0;34m/\u001b[0m \u001b[0mlen\u001b[0m\u001b[0;34m(\u001b[0m\u001b[0mlista\u001b[0m\u001b[0;34m)\u001b[0m\u001b[0;34m\u001b[0m\u001b[0;34m\u001b[0m\u001b[0m\n\u001b[0m\u001b[1;32m     11\u001b[0m \u001b[0;34m\u001b[0m\u001b[0m\n\u001b[1;32m     12\u001b[0m   \u001b[0;32mif\u001b[0m \u001b[0mlen\u001b[0m\u001b[0;34m(\u001b[0m\u001b[0mlista\u001b[0m\u001b[0;34m)\u001b[0m \u001b[0;34m>\u001b[0m \u001b[0;36m4\u001b[0m\u001b[0;34m:\u001b[0m\u001b[0;34m\u001b[0m\u001b[0;34m\u001b[0m\u001b[0m\n",
            "\u001b[0;31mTypeError\u001b[0m: unsupported operand type(s) for +: 'int' and 'str'"
          ]
        }
      ]
    },
    {
      "cell_type": "code",
      "source": [
        "try:\n",
        "  notas = [6, 7 , 8, 9]\n",
        "  resultado = media(notas)\n",
        "except TypeError:\n",
        "  print(\"Não foi possível calcular a média do(a) estudante. Só são aceitos valores numéricos!\")\n",
        "except ValueError as e:\n",
        "  print(e)\n",
        "else:\n",
        "  print(resultado)\n",
        "finally:\n",
        "  print(\"A consulta foi encerrada!\")"
      ],
      "metadata": {
        "colab": {
          "base_uri": "https://localhost:8080/"
        },
        "id": "PtFJakRt22Uo",
        "outputId": "0ea3d7cf-e9db-44da-9b09-1578c543128b"
      },
      "execution_count": 78,
      "outputs": [
        {
          "output_type": "stream",
          "name": "stdout",
          "text": [
            "7.5\n",
            "A consulta foi encerrada!\n"
          ]
        }
      ]
    },
    {
      "cell_type": "code",
      "source": [
        "try:\n",
        "  notas = [6, 7 , 8, 9, 8]\n",
        "  resultado = media(notas)\n",
        "except TypeError:\n",
        "  print(\"Não foi possível calcular a média do(a) estudante. Só são aceitos valores numéricos!\")\n",
        "except ValueError as e:\n",
        "  print(e)\n",
        "else:\n",
        "  print(resultado)\n",
        "finally:\n",
        "  print(\"A consulta foi encerrada!\")\n"
      ],
      "metadata": {
        "colab": {
          "base_uri": "https://localhost:8080/"
        },
        "id": "cEaZa23G29UQ",
        "outputId": "51c62036-7e04-4a14-e77a-941ba5c4a8ee"
      },
      "execution_count": 79,
      "outputs": [
        {
          "output_type": "stream",
          "name": "stdout",
          "text": [
            "A lista não pode possuir mais de 4 notas.\n",
            "A consulta foi encerrada!\n"
          ]
        }
      ]
    },
    {
      "cell_type": "code",
      "source": [
        "try:\n",
        "  notas = [6, 7 , 8, \"9\"]\n",
        "  resultado = media(notas)\n",
        "except TypeError:\n",
        "  print(\"Não foi possível calcular a média do(a) estudante. Só são aceitos valores numéricos!\")\n",
        "except ValueError as e:\n",
        "  print(e)\n",
        "else:\n",
        "  print(resultado)\n",
        "finally:\n",
        "  print(\"A consulta foi encerrada!\")"
      ],
      "metadata": {
        "colab": {
          "base_uri": "https://localhost:8080/"
        },
        "id": "4pWpx6Ee2_dY",
        "outputId": "fbc7798e-b983-4329-847e-46720672034f"
      },
      "execution_count": 80,
      "outputs": [
        {
          "output_type": "stream",
          "name": "stdout",
          "text": [
            "Não foi possível calcular a média do(a) estudante. Só são aceitos valores numéricos!\n",
            "A consulta foi encerrada!\n"
          ]
        }
      ]
    }
  ]
}